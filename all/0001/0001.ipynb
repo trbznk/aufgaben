{
 "cells": [
  {
   "cell_type": "markdown",
   "metadata": {},
   "source": [
    "Splitte die Daten `data` in `train_data` und `test_data` auf.\n",
    "- Verhältnis von 70%/30%"
   ]
  },
  {
   "cell_type": "code",
   "execution_count": 1,
   "metadata": {},
   "outputs": [
    {
     "data": {
      "text/plain": [
       "array([[0.0691921 , 0.29809246, 0.74060977, 0.43116113, 0.90673294],\n",
       "       [0.56592277, 0.92277312, 0.62094823, 0.88298427, 0.2813909 ],\n",
       "       [0.5569379 , 0.02660586, 0.47084102, 0.86589115, 0.33680138],\n",
       "       ...,\n",
       "       [0.41258441, 0.37033614, 0.06203486, 0.14549457, 0.57346238],\n",
       "       [0.46052758, 0.30124617, 0.66927642, 0.34530281, 0.21864805],\n",
       "       [0.03534869, 0.60784424, 0.14521268, 0.64757357, 0.02675797]])"
      ]
     },
     "execution_count": 1,
     "metadata": {},
     "output_type": "execute_result"
    }
   ],
   "source": [
    "import numpy as np\n",
    "\n",
    "from sklearn.model_selection import train_test_split\n",
    "\n",
    "data = np.random.rand(1000, 5)\n",
    "data"
   ]
  },
  {
   "cell_type": "code",
   "execution_count": null,
   "metadata": {},
   "outputs": [],
   "source": []
  }
 ],
 "metadata": {
  "kernelspec": {
   "display_name": "Python 3",
   "language": "python",
   "name": "python3"
  },
  "language_info": {
   "codemirror_mode": {
    "name": "ipython",
    "version": 3
   },
   "file_extension": ".py",
   "mimetype": "text/x-python",
   "name": "python",
   "nbconvert_exporter": "python",
   "pygments_lexer": "ipython3",
   "version": "3.8.12"
  }
 },
 "nbformat": 4,
 "nbformat_minor": 4
}
