{
 "cells": [
  {
   "cell_type": "markdown",
   "metadata": {},
   "source": [
    "# Komplexübung"
   ]
  },
  {
   "cell_type": "code",
   "execution_count": 1,
   "metadata": {},
   "outputs": [
    {
     "data": {
      "text/html": [
       "<div>\n",
       "<style scoped>\n",
       "    .dataframe tbody tr th:only-of-type {\n",
       "        vertical-align: middle;\n",
       "    }\n",
       "\n",
       "    .dataframe tbody tr th {\n",
       "        vertical-align: top;\n",
       "    }\n",
       "\n",
       "    .dataframe thead th {\n",
       "        text-align: right;\n",
       "    }\n",
       "</style>\n",
       "<table border=\"1\" class=\"dataframe\">\n",
       "  <thead>\n",
       "    <tr style=\"text-align: right;\">\n",
       "      <th></th>\n",
       "      <th>Port</th>\n",
       "      <th>Port Name</th>\n",
       "      <th>Port RegionId</th>\n",
       "      <th>Indicator</th>\n",
       "      <th>Indicator Name</th>\n",
       "      <th>Indicator unit</th>\n",
       "      <th>Scale</th>\n",
       "      <th>Units</th>\n",
       "      <th>2005</th>\n",
       "      <th>2006</th>\n",
       "      <th>2007</th>\n",
       "      <th>2008</th>\n",
       "      <th>2009</th>\n",
       "    </tr>\n",
       "  </thead>\n",
       "  <tbody>\n",
       "    <tr>\n",
       "      <th>0</th>\n",
       "      <td>AO</td>\n",
       "      <td>Angola</td>\n",
       "      <td>AO</td>\n",
       "      <td>12376316.0</td>\n",
       "      <td>Cargo Traffic (M.Tonnes)</td>\n",
       "      <td>million tonnes</td>\n",
       "      <td>units</td>\n",
       "      <td>Million tonnes</td>\n",
       "      <td>6915000.0</td>\n",
       "      <td>7100000.0</td>\n",
       "      <td>7171110.0</td>\n",
       "      <td>7242821.0</td>\n",
       "      <td>6535300.0</td>\n",
       "    </tr>\n",
       "    <tr>\n",
       "      <th>1</th>\n",
       "      <td>BI</td>\n",
       "      <td>Burundi</td>\n",
       "      <td>BI</td>\n",
       "      <td>12376316.0</td>\n",
       "      <td>Cargo Traffic (M.Tonnes)</td>\n",
       "      <td>million tonnes</td>\n",
       "      <td>units</td>\n",
       "      <td>Million tonnes</td>\n",
       "      <td>204929.0</td>\n",
       "      <td>182810.0</td>\n",
       "      <td>136077.0</td>\n",
       "      <td>137437.0</td>\n",
       "      <td>140000.0</td>\n",
       "    </tr>\n",
       "    <tr>\n",
       "      <th>2</th>\n",
       "      <td>BI</td>\n",
       "      <td>Burundi</td>\n",
       "      <td>BI</td>\n",
       "      <td>12376616.0</td>\n",
       "      <td>Container Traffic (TEUs)</td>\n",
       "      <td>TEUs</td>\n",
       "      <td>units</td>\n",
       "      <td>TEUs</td>\n",
       "      <td>NaN</td>\n",
       "      <td>NaN</td>\n",
       "      <td>811.0</td>\n",
       "      <td>819.0</td>\n",
       "      <td>827.0</td>\n",
       "    </tr>\n",
       "    <tr>\n",
       "      <th>3</th>\n",
       "      <td>DJ</td>\n",
       "      <td>Djibouti</td>\n",
       "      <td>DJ</td>\n",
       "      <td>12376316.0</td>\n",
       "      <td>Cargo Traffic (M.Tonnes)</td>\n",
       "      <td>million tonnes</td>\n",
       "      <td>units</td>\n",
       "      <td>Million tonnes</td>\n",
       "      <td>5432353.0</td>\n",
       "      <td>5489586.0</td>\n",
       "      <td>7470937.0</td>\n",
       "      <td>9379573.0</td>\n",
       "      <td>12147383.0</td>\n",
       "    </tr>\n",
       "    <tr>\n",
       "      <th>4</th>\n",
       "      <td>DJ</td>\n",
       "      <td>Djibouti</td>\n",
       "      <td>DJ</td>\n",
       "      <td>12376416.0</td>\n",
       "      <td>Cargo Traffic, Annual Growth (Volume)</td>\n",
       "      <td>volume</td>\n",
       "      <td>units</td>\n",
       "      <td>Volume</td>\n",
       "      <td>NaN</td>\n",
       "      <td>NaN</td>\n",
       "      <td>NaN</td>\n",
       "      <td>NaN</td>\n",
       "      <td>2767810.0</td>\n",
       "    </tr>\n",
       "  </tbody>\n",
       "</table>\n",
       "</div>"
      ],
      "text/plain": [
       "  Port Port Name Port RegionId   Indicator  \\\n",
       "0   AO    Angola            AO  12376316.0   \n",
       "1   BI   Burundi            BI  12376316.0   \n",
       "2   BI   Burundi            BI  12376616.0   \n",
       "3   DJ  Djibouti            DJ  12376316.0   \n",
       "4   DJ  Djibouti            DJ  12376416.0   \n",
       "\n",
       "                          Indicator Name  Indicator unit  Scale  \\\n",
       "0               Cargo Traffic (M.Tonnes)  million tonnes  units   \n",
       "1               Cargo Traffic (M.Tonnes)  million tonnes  units   \n",
       "2               Container Traffic (TEUs)            TEUs  units   \n",
       "3               Cargo Traffic (M.Tonnes)  million tonnes  units   \n",
       "4  Cargo Traffic, Annual Growth (Volume)          volume  units   \n",
       "\n",
       "            Units       2005       2006       2007       2008        2009  \n",
       "0  Million tonnes  6915000.0  7100000.0  7171110.0  7242821.0   6535300.0  \n",
       "1  Million tonnes   204929.0   182810.0   136077.0   137437.0    140000.0  \n",
       "2            TEUs        NaN        NaN      811.0      819.0       827.0  \n",
       "3  Million tonnes  5432353.0  5489586.0  7470937.0  9379573.0  12147383.0  \n",
       "4          Volume        NaN        NaN        NaN        NaN   2767810.0  "
      ]
     },
     "execution_count": 1,
     "metadata": {},
     "output_type": "execute_result"
    }
   ],
   "source": [
    "import pandas as pd\n",
    "\n",
    "df = pd.read_excel(\"african-port-statistics-2013.xlsx\")\n",
    "df.head()"
   ]
  },
  {
   "cell_type": "markdown",
   "metadata": {},
   "source": [
    "### Aufgabe 1\n",
    "\n",
    "Preprocessing:\n",
    "\n",
    "1. Prüfe ob die die Spalten `2005`, `2006`, `2007`, `2008` und `2009` den richtigen Datentyp haben. (Falls nicht => Umwandeln)\n",
    "2. Treffe eine Aussage darüber, welche Spalte die meisten NaN Werte enthält."
   ]
  },
  {
   "cell_type": "code",
   "execution_count": null,
   "metadata": {},
   "outputs": [],
   "source": []
  },
  {
   "cell_type": "markdown",
   "metadata": {},
   "source": [
    "### Aufgabe 2\n",
    "\n",
    "Die Spalten für die Jahre enthalten `NaN` Werte.\n",
    "\n",
    "1. Fülle die `NaN` Werte mit dem jeweiligen Durchschnittswert von dem Jahr.\n",
    "2. Im Anschlusse entferne alle Zeilen mit mindestens einem `NaN` Wert.\n",
    "\n",
    "`fillna()`"
   ]
  },
  {
   "cell_type": "markdown",
   "metadata": {},
   "source": [
    "### Aufgabe 3\n",
    "\n",
    "1. Liste die verschiedenen Kürzel `Port` der Häfen auf (Keine doppelten Werte)."
   ]
  },
  {
   "cell_type": "code",
   "execution_count": null,
   "metadata": {},
   "outputs": [],
   "source": []
  },
  {
   "cell_type": "markdown",
   "metadata": {},
   "source": [
    "### Aufgabe 4\n",
    "\n",
    "1. Welcher Namen `Port Name` eines Hafens, ist am kürzesten.\n",
    "2. Wie kurz?"
   ]
  },
  {
   "cell_type": "code",
   "execution_count": null,
   "metadata": {},
   "outputs": [],
   "source": []
  },
  {
   "cell_type": "markdown",
   "metadata": {},
   "source": [
    "### Aufgabe 5\n",
    "\n",
    "1. Selektiere so, dass du nur die Zeilen hast bei denen die Spalte `Units` gleich `Million tonnes` ist.\n",
    "2. => Gruppiere nach `Port Name`\n",
    "3. => Wähle nur die Spalte `2009` aus\n",
    "4. => Nutze die Summenfunktion zur Reduzierung der Werte\n",
    "5. => Selektiere nur die 20 kleinsten\n",
    "6. => Visualisiere diese mit einem Kreisdiagramm"
   ]
  },
  {
   "cell_type": "code",
   "execution_count": null,
   "metadata": {},
   "outputs": [],
   "source": []
  }
 ],
 "metadata": {
  "kernelspec": {
   "display_name": "Python 3",
   "language": "python",
   "name": "python3"
  },
  "language_info": {
   "codemirror_mode": {
    "name": "ipython",
    "version": 3
   },
   "file_extension": ".py",
   "mimetype": "text/x-python",
   "name": "python",
   "nbconvert_exporter": "python",
   "pygments_lexer": "ipython3",
   "version": "3.8.12"
  }
 },
 "nbformat": 4,
 "nbformat_minor": 4
}
