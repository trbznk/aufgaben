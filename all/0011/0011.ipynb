{
 "cells": [
  {
   "cell_type": "markdown",
   "metadata": {},
   "source": [
    "Wir wollen die Maßeinheit *Länge* in verschiedene Einheiten umwandeln.\n",
    "\n",
    "- Erzeuge eine Variable `length` und gib dieser deine Körpergröße in *Meter* als Wert."
   ]
  },
  {
   "cell_type": "code",
   "execution_count": null,
   "metadata": {},
   "outputs": [],
   "source": []
  },
  {
   "cell_type": "markdown",
   "metadata": {},
   "source": [
    "Rechne den Wert der Variable `length` in andere Maßeinheiten um und speichere das Ergebnis in die jeweilige Variable ab:\n",
    "\n",
    "- in Zentimeter in die Variable `cm`\n",
    "- in Nanometer in die Variable `nm`\n",
    "- in Kilometer in die Variable `km`\n",
    "- in Fuß in die Variable `feet`\n",
    "\n",
    "*Wenn du Hilfe bei der Umrechnung brauchst erkundige dich hier: https://www.gut-erklaert.de/mathematik/laengeneinheiten-tabelle.html*"
   ]
  },
  {
   "cell_type": "code",
   "execution_count": null,
   "metadata": {},
   "outputs": [],
   "source": []
  },
  {
   "cell_type": "markdown",
   "metadata": {},
   "source": [
    "- Gebe die Ergebnise aus und hänge jeweils die Maßeinheit an.\n",
    "\n",
    "Beispiel:\n",
    "\n",
    "```shell\n",
    "'184 cm'\n",
    "```"
   ]
  },
  {
   "cell_type": "code",
   "execution_count": null,
   "metadata": {},
   "outputs": [],
   "source": []
  }
 ],
 "metadata": {
  "kernelspec": {
   "display_name": "Python 3",
   "language": "python",
   "name": "python3"
  },
  "language_info": {
   "codemirror_mode": {
    "name": "ipython",
    "version": 3
   },
   "file_extension": ".py",
   "mimetype": "text/x-python",
   "name": "python",
   "nbconvert_exporter": "python",
   "pygments_lexer": "ipython3",
   "version": "3.8.12"
  }
 },
 "nbformat": 4,
 "nbformat_minor": 4
}
