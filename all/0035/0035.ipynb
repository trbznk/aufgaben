{
 "cells": [
  {
   "cell_type": "markdown",
   "metadata": {},
   "source": [
    "# Eine Box als Klasse deklarieren.\n",
    "\n",
    "(a) Lege die fehlenden Attribute in dem Konstruktor fest.\n",
    "\n",
    "(b)  Erzeuge dann ein Objekt der Klasse `box` mit den Parametern (`width=5`, `length=8`, `height=6`, `color=red`) und weise es der Variable `b` zu.\n",
    "\n",
    "(c) Erweitere die Klasse um eine Methode `volume()`, welche das Volumen der Box zurückgeben soll.\n",
    "\n",
    "(d) Erweitere die Klasse um eine Methode `set_color()`, über diese die Farbe der Box verändert werden kann. Zugelassen sind nur die Farben `'red'`, `'blue'` und `'grey'`. Sollte eine andere Farbe gewählt werden, soll die Box standardmäßig die Farbe `'grey'` bekommen. \n",
    "\n",
    "(e) Erzeuge nun 3 zusätzliche Boxen mit verschiedenen Eigenschaften und verändere bei einer nachträglich die Farbe über die Methode `set_color()` und lasse dir das Volumen von den zwei anderen Boxen berechnen."
   ]
  },
  {
   "cell_type": "code",
   "execution_count": 1,
   "metadata": {},
   "outputs": [],
   "source": [
    "class Box:\n",
    "    def __init__(self, width, length, height, color):\n",
    "        pass"
   ]
  }
 ],
 "metadata": {
  "kernelspec": {
   "display_name": "Python 3",
   "language": "python",
   "name": "python3"
  },
  "language_info": {
   "codemirror_mode": {
    "name": "ipython",
    "version": 3
   },
   "file_extension": ".py",
   "mimetype": "text/x-python",
   "name": "python",
   "nbconvert_exporter": "python",
   "pygments_lexer": "ipython3",
   "version": "3.8.12"
  }
 },
 "nbformat": 4,
 "nbformat_minor": 4
}
