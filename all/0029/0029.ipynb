{
 "cells": [
  {
   "cell_type": "markdown",
   "metadata": {},
   "source": [
    "![leet](https://i.pinimg.com/originals/42/94/97/4294976ce603552b7ee0dd883c8202cf.jpg)\n",
    "\n",
    "Erzeuge ein `dictionary` um das *Leet Speak* Alphabet zu übersetzen. Passe dafür nur den Inhalt der Variable `alphabet` an und führe die Zelle aus, um deine Eingaben zu übersetzen."
   ]
  },
  {
   "cell_type": "code",
   "execution_count": null,
   "metadata": {},
   "outputs": [],
   "source": [
    "alphabet = {}\n",
    "\n",
    "\n",
    "def leet(s):\n",
    "    return s.translate(str.maketrans(alphabet))    \n",
    "\n",
    "\n",
    "leet(input())"
   ]
  }
 ],
 "metadata": {
  "kernelspec": {
   "display_name": "Python 3",
   "language": "python",
   "name": "python3"
  },
  "language_info": {
   "codemirror_mode": {
    "name": "ipython",
    "version": 3
   },
   "file_extension": ".py",
   "mimetype": "text/x-python",
   "name": "python",
   "nbconvert_exporter": "python",
   "pygments_lexer": "ipython3",
   "version": "3.8.12"
  }
 },
 "nbformat": 4,
 "nbformat_minor": 4
}
