{
 "cells": [
  {
   "cell_type": "markdown",
   "metadata": {},
   "source": [
    "Nutze die Funktion `train_test_split` und splitte die Daten `x` und `y` in `x_train`, `x_test`, `y_train` und `y_test` auf.\n",
    "- Verhältnis 95%/5%\n",
    "- Daten sollen beim Split nicht zufällig gemischt werden"
   ]
  },
  {
   "cell_type": "code",
   "execution_count": 1,
   "metadata": {},
   "outputs": [
    {
     "data": {
      "text/plain": [
       "(array([[0.95984064, 0.7083468 , 0.60531926, 0.55896996, 0.45568251],\n",
       "        [0.73930365, 0.36144469, 0.51332719, 0.74673791, 0.43406574],\n",
       "        [0.76540614, 0.04770358, 0.52372315, 0.190387  , 0.58599717],\n",
       "        ...,\n",
       "        [0.7857205 , 0.29679179, 0.57252503, 0.72673135, 0.39145228],\n",
       "        [0.28915564, 0.60921488, 0.77338851, 0.12734388, 0.68013956],\n",
       "        [0.81043376, 0.8476278 , 0.79827202, 0.55385215, 0.77288627]]),\n",
       " array([1, 0, 1, ..., 0, 1, 0]))"
      ]
     },
     "execution_count": 1,
     "metadata": {},
     "output_type": "execute_result"
    }
   ],
   "source": [
    "import numpy as np\n",
    "\n",
    "from sklearn.model_selection import train_test_split\n",
    "\n",
    "x = np.random.rand(10000, 5)\n",
    "y = np.random.rand(10000).round().astype(int)\n",
    "\n",
    "x, y"
   ]
  },
  {
   "cell_type": "code",
   "execution_count": null,
   "metadata": {},
   "outputs": [],
   "source": []
  }
 ],
 "metadata": {
  "kernelspec": {
   "display_name": "Python 3",
   "language": "python",
   "name": "python3"
  },
  "language_info": {
   "codemirror_mode": {
    "name": "ipython",
    "version": 3
   },
   "file_extension": ".py",
   "mimetype": "text/x-python",
   "name": "python",
   "nbconvert_exporter": "python",
   "pygments_lexer": "ipython3",
   "version": "3.8.12"
  }
 },
 "nbformat": 4,
 "nbformat_minor": 4
}
