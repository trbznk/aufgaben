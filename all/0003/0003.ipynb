{
 "cells": [
  {
   "cell_type": "markdown",
   "metadata": {},
   "source": [
    "Nutze die Funktion `train_test_split` und splitte die Daten `data` in `train`, `dev` und `test` auf.\n",
    "- Verhältnis 60%/20%/20%"
   ]
  },
  {
   "cell_type": "code",
   "execution_count": 1,
   "metadata": {},
   "outputs": [
    {
     "data": {
      "text/plain": [
       "array([[0.68503389, 0.17474523, 0.84326943, 0.72864093, 0.67942879],\n",
       "       [0.81102351, 0.88670173, 0.10628373, 0.98045614, 0.98991642],\n",
       "       [0.31178233, 0.19522156, 0.24791409, 0.62486229, 0.16648079],\n",
       "       ...,\n",
       "       [0.65132865, 0.19898931, 0.7743403 , 0.04635914, 0.58135438],\n",
       "       [0.95835371, 0.71736735, 0.34556019, 0.84300659, 0.0223243 ],\n",
       "       [0.79086181, 0.49391614, 0.93371019, 0.85855551, 0.25016494]])"
      ]
     },
     "execution_count": 1,
     "metadata": {},
     "output_type": "execute_result"
    }
   ],
   "source": [
    "import numpy as np\n",
    "\n",
    "from sklearn.model_selection import train_test_split\n",
    "\n",
    "data = np.random.rand(1000, 5)\n",
    "data"
   ]
  },
  {
   "cell_type": "code",
   "execution_count": null,
   "metadata": {},
   "outputs": [],
   "source": []
  }
 ],
 "metadata": {
  "kernelspec": {
   "display_name": "Python 3",
   "language": "python",
   "name": "python3"
  },
  "language_info": {
   "codemirror_mode": {
    "name": "ipython",
    "version": 3
   },
   "file_extension": ".py",
   "mimetype": "text/x-python",
   "name": "python",
   "nbconvert_exporter": "python",
   "pygments_lexer": "ipython3",
   "version": "3.8.12"
  }
 },
 "nbformat": 4,
 "nbformat_minor": 4
}
