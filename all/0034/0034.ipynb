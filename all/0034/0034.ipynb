{
 "cells": [
  {
   "cell_type": "markdown",
   "metadata": {},
   "source": [
    "Du hast bestimmt schon vom Body-Mass-Index (BMI) gehört. Dieser berechnet sich folgendermaßen:\n",
    "\n",
    "$$\n",
    "BMI = \\frac{\\text{Gewicht in kg}}{(\\text{Größe in m})^2}\n",
    "$$\n",
    "\n",
    "Die Rechnung ist bereits fertig programmiert. Du musst in der Zelle darüber nur noch die passenden Variablen erzeugen, damit diese auch funktioniert."
   ]
  },
  {
   "cell_type": "code",
   "execution_count": null,
   "metadata": {},
   "outputs": [],
   "source": []
  },
  {
   "cell_type": "code",
   "execution_count": null,
   "metadata": {},
   "outputs": [],
   "source": [
    "weight/(size)**2"
   ]
  }
 ],
 "metadata": {
  "kernelspec": {
   "display_name": "Python 3",
   "language": "python",
   "name": "python3"
  },
  "language_info": {
   "codemirror_mode": {
    "name": "ipython",
    "version": 3
   },
   "file_extension": ".py",
   "mimetype": "text/x-python",
   "name": "python",
   "nbconvert_exporter": "python",
   "pygments_lexer": "ipython3",
   "version": "3.8.12"
  }
 },
 "nbformat": 4,
 "nbformat_minor": 4
}
