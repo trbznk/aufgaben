{
 "cells": [
  {
   "cell_type": "markdown",
   "metadata": {},
   "source": [
    "Vervollständige die Funktion `rechne`, sodass sie beim Argument `'+'` oder `plus` die richtige Funktion aufruft.\n",
    "Dann soll die Funktion `rechne` das Ergebnis wie im Beispiel ausgegeben:\n",
    "\n",
    "```python\n",
    "'33 - 4 = 29'\n",
    "```"
   ]
  },
  {
   "cell_type": "code",
   "execution_count": 1,
   "metadata": {},
   "outputs": [],
   "source": [
    "def plus(a, b):\n",
    "    return a+b\n",
    "\n",
    "\n",
    "def minus(a, b):\n",
    "    return a-b\n",
    "\n",
    "\n",
    "def rechne(a, operator, b):\n",
    "    pass\n",
    "\n",
    "\n",
    "rechne(33, \"-\", 29)"
   ]
  }
 ],
 "metadata": {
  "kernelspec": {
   "display_name": "Python 3",
   "language": "python",
   "name": "python3"
  },
  "language_info": {
   "codemirror_mode": {
    "name": "ipython",
    "version": 3
   },
   "file_extension": ".py",
   "mimetype": "text/x-python",
   "name": "python",
   "nbconvert_exporter": "python",
   "pygments_lexer": "ipython3",
   "version": "3.8.12"
  }
 },
 "nbformat": 4,
 "nbformat_minor": 4
}
