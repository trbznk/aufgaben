{
 "cells": [
  {
   "cell_type": "markdown",
   "metadata": {},
   "source": [
    "# OOP\n",
    "\n",
    "### Aufgabe 1\n",
    "\n",
    "Erzeuge ein Objekt der Klasse `Auto` und weise es der Variable `a` zu."
   ]
  },
  {
   "cell_type": "code",
   "execution_count": 1,
   "metadata": {},
   "outputs": [],
   "source": [
    "class Auto:\n",
    "    def __init__(self):\n",
    "        pass"
   ]
  },
  {
   "cell_type": "code",
   "execution_count": null,
   "metadata": {},
   "outputs": [],
   "source": []
  },
  {
   "cell_type": "markdown",
   "metadata": {},
   "source": [
    "### Aufgabe 2\n",
    "\n",
    "Füge der Klasse `Schiff` ein Attribut `marke` hinzu, welches bei der Erzeugung eines Objektes übergeben werden muss und behebe somit den Fehler. "
   ]
  },
  {
   "cell_type": "code",
   "execution_count": 2,
   "metadata": {},
   "outputs": [],
   "source": [
    "class Schiff:\n",
    "    def __init__(self):\n",
    "        pass\n",
    "    \n",
    "    def fahren(self):\n",
    "        print(\"Fährt\")\n",
    "        \n",
    "        \n",
    "#s = Schiff(\"Bayliner\")"
   ]
  },
  {
   "cell_type": "markdown",
   "metadata": {},
   "source": [
    "### Aufgabe 3\n",
    "\n",
    "Füge der Klasse `Person` eine Methode `hallo` hinzu, die den Satz `'Guten Tag!'` ausgibt und behebe somit den Fehler. "
   ]
  },
  {
   "cell_type": "code",
   "execution_count": 3,
   "metadata": {},
   "outputs": [],
   "source": [
    "class Person:\n",
    "    def __init__(self, name):\n",
    "        self.name = name\n",
    "        \n",
    "\n",
    "p = Person(\"Alex\")\n",
    "#p.hallo()"
   ]
  },
  {
   "cell_type": "markdown",
   "metadata": {},
   "source": [
    "### Aufgabe 4\n",
    "\n",
    "Füge die passende magic method hinzu, um die Anzahl der Mitarbeiter zurückzugeben und damit den Fehler zu beheben."
   ]
  },
  {
   "cell_type": "code",
   "execution_count": 4,
   "metadata": {},
   "outputs": [],
   "source": [
    "class Unternehmen:\n",
    "    def __init__(self, n=10):\n",
    "        self.mitarbeiter = [f\"Mitarbeiter {i+1}\" for i in range(n)]\n",
    "        \n",
    "        \n",
    "u = Unternehmen(n=120)\n",
    "#len(u)"
   ]
  },
  {
   "cell_type": "markdown",
   "metadata": {},
   "source": [
    "### Aufgabe 5\n",
    "\n",
    "Erzeuge eine Klasse die, die Grundfunktionalitäten einer Mikrowelle abdeckt."
   ]
  },
  {
   "cell_type": "code",
   "execution_count": null,
   "metadata": {},
   "outputs": [],
   "source": []
  }
 ],
 "metadata": {
  "kernelspec": {
   "display_name": "Python 3",
   "language": "python",
   "name": "python3"
  },
  "language_info": {
   "codemirror_mode": {
    "name": "ipython",
    "version": 3
   },
   "file_extension": ".py",
   "mimetype": "text/x-python",
   "name": "python",
   "nbconvert_exporter": "python",
   "pygments_lexer": "ipython3",
   "version": "3.8.11"
  }
 },
 "nbformat": 4,
 "nbformat_minor": 4
}
