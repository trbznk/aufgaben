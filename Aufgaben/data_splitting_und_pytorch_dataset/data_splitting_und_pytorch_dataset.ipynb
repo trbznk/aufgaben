{
 "cells": [
  {
   "cell_type": "markdown",
   "metadata": {},
   "source": [
    "# DATA SPLITTING UND PYTORCH DATASET"
   ]
  },
  {
   "cell_type": "code",
   "execution_count": 1,
   "metadata": {},
   "outputs": [],
   "source": [
    "import numpy as np\n",
    "\n",
    "from torch.utils.data import Dataset\n",
    "from sklearn.model_selection import train_test_split"
   ]
  },
  {
   "cell_type": "markdown",
   "metadata": {},
   "source": [
    "### Aufgabe 1\n",
    "\n",
    "Splitte die Daten `data` in `train_data` und `test_data` auf.\n",
    "- Verhältnis von 70%/30%"
   ]
  },
  {
   "cell_type": "code",
   "execution_count": 2,
   "metadata": {},
   "outputs": [
    {
     "data": {
      "text/plain": [
       "array([[0.89523608, 0.83079998, 0.68958685, 0.33484928, 0.98291588],\n",
       "       [0.61071463, 0.86215006, 0.68241968, 0.77754786, 0.1853804 ],\n",
       "       [0.65510401, 0.07730025, 0.96193737, 0.40783759, 0.92799899],\n",
       "       ...,\n",
       "       [0.62452555, 0.54524746, 0.01999945, 0.22123216, 0.88096873],\n",
       "       [0.19821873, 0.57447015, 0.10857586, 0.35795594, 0.70052476],\n",
       "       [0.40205958, 0.597257  , 0.42366484, 0.52937891, 0.60357795]])"
      ]
     },
     "execution_count": 2,
     "metadata": {},
     "output_type": "execute_result"
    }
   ],
   "source": [
    "data = np.random.rand(1000, 5)\n",
    "data"
   ]
  },
  {
   "cell_type": "code",
   "execution_count": null,
   "metadata": {},
   "outputs": [],
   "source": []
  },
  {
   "cell_type": "markdown",
   "metadata": {},
   "source": [
    "### Aufgabe 2\n",
    "\n",
    "Splitte die Daten `x` und `y` in `x_train`, `x_test`, `y_train` und `y_test` auf.\n",
    "- Verhältnis 95%/5%\n",
    "- Daten sollen beim Split nicht zufällig gemischt werden"
   ]
  },
  {
   "cell_type": "code",
   "execution_count": 3,
   "metadata": {},
   "outputs": [
    {
     "data": {
      "text/plain": [
       "(array([[0.4525443 , 0.86022733, 0.9472101 , 0.88324378, 0.36523154],\n",
       "        [0.12602064, 0.31025608, 0.15750222, 0.25107546, 0.23980016],\n",
       "        [0.3380764 , 0.16325973, 0.35221485, 0.12985233, 0.2280188 ],\n",
       "        ...,\n",
       "        [0.47058547, 0.64633409, 0.16208311, 0.36740146, 0.4534694 ],\n",
       "        [0.67199817, 0.08217424, 0.54801155, 0.49838277, 0.70869742],\n",
       "        [0.12060902, 0.53116333, 0.9665804 , 0.40625086, 0.38359113]]),\n",
       " array([1, 1, 0, ..., 0, 0, 0]))"
      ]
     },
     "execution_count": 3,
     "metadata": {},
     "output_type": "execute_result"
    }
   ],
   "source": [
    "x = np.random.rand(10000, 5)\n",
    "y = np.random.rand(10000).round().astype(int)\n",
    "\n",
    "x, y"
   ]
  },
  {
   "cell_type": "code",
   "execution_count": null,
   "metadata": {},
   "outputs": [],
   "source": []
  },
  {
   "cell_type": "markdown",
   "metadata": {},
   "source": [
    "### Aufgabe 3\n",
    "\n",
    "Splitte die Daten `data` in `train`, `dev` und `test` auf.\n",
    "- Verhältnis 60%/20%/20%"
   ]
  },
  {
   "cell_type": "code",
   "execution_count": 4,
   "metadata": {},
   "outputs": [
    {
     "data": {
      "text/plain": [
       "array([[0.98767948, 0.11549822, 0.70540402, 0.05995446, 0.12603473],\n",
       "       [0.91635618, 0.54423565, 0.48172452, 0.25745196, 0.46568374],\n",
       "       [0.945342  , 0.93120862, 0.65457584, 0.08549202, 0.24020329],\n",
       "       ...,\n",
       "       [0.33374969, 0.89640415, 0.81891331, 0.3402954 , 0.85600966],\n",
       "       [0.86275828, 0.57778322, 0.55138705, 0.87907428, 0.28779457],\n",
       "       [0.92585241, 0.00454865, 0.88008818, 0.49230524, 0.88338014]])"
      ]
     },
     "execution_count": 4,
     "metadata": {},
     "output_type": "execute_result"
    }
   ],
   "source": [
    "data = np.random.rand(1000, 5)\n",
    "data"
   ]
  },
  {
   "cell_type": "code",
   "execution_count": null,
   "metadata": {},
   "outputs": [],
   "source": []
  },
  {
   "cell_type": "markdown",
   "metadata": {},
   "source": [
    "### Aufgabe 4\n",
    "\n",
    "Wir haben ein `Dataset` erzeugt. Jedoch gibt es bei `len(data)` nicht die richtige Länge (Anzahl der Elemente) zurück.\n",
    "Behebe den Fehler."
   ]
  },
  {
   "cell_type": "code",
   "execution_count": 5,
   "metadata": {},
   "outputs": [
    {
     "data": {
      "text/plain": [
       "0"
      ]
     },
     "execution_count": 5,
     "metadata": {},
     "output_type": "execute_result"
    }
   ],
   "source": [
    "x = np.random.rand(10000, 5)\n",
    "y = np.random.rand(10000).round().astype(int)\n",
    "\n",
    "\n",
    "class Data(Dataset):\n",
    "    def __init__(self, x, y):\n",
    "        self.x = x\n",
    "        self.y = y\n",
    "    \n",
    "    def __len__(self):\n",
    "        return 0\n",
    "    \n",
    "    \n",
    "data = Data(x, y)\n",
    "len(data)"
   ]
  },
  {
   "cell_type": "markdown",
   "metadata": {},
   "source": [
    "### Aufgabe 5\n",
    "\n",
    "Passe die Methode `__getitem__()` so an, dass sie den `x` und `y` Teil beim gegebenen Index `i` als `tuple` zurückgibt.\n",
    "\n",
    "Beispiel:\n",
    "```python\n",
    "(array([0.45740839, 0.28119272, 0.5612359 , 0.78179437, 0.07652732]), 1)\n",
    "```"
   ]
  },
  {
   "cell_type": "code",
   "execution_count": 6,
   "metadata": {},
   "outputs": [
    {
     "data": {
      "text/plain": [
       "0"
      ]
     },
     "execution_count": 6,
     "metadata": {},
     "output_type": "execute_result"
    }
   ],
   "source": [
    "x = np.random.rand(10000, 5)\n",
    "y = np.random.rand(10000).round().astype(int)\n",
    "\n",
    "\n",
    "class Data(Dataset):\n",
    "    def __init__(self, x, y):\n",
    "        self.x = x\n",
    "        self.y = y\n",
    "    \n",
    "    def __getitem__(self, i):\n",
    "        return 0\n",
    "    \n",
    "\n",
    "data = Data(x, y)\n",
    "data[0]"
   ]
  }
 ],
 "metadata": {
  "kernelspec": {
   "display_name": "Python 3",
   "language": "python",
   "name": "python3"
  },
  "language_info": {
   "codemirror_mode": {
    "name": "ipython",
    "version": 3
   },
   "file_extension": ".py",
   "mimetype": "text/x-python",
   "name": "python",
   "nbconvert_exporter": "python",
   "pygments_lexer": "ipython3",
   "version": "3.8.11"
  }
 },
 "nbformat": 4,
 "nbformat_minor": 4
}
