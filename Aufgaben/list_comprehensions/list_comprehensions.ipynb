{
 "cells": [
  {
   "cell_type": "markdown",
   "metadata": {},
   "source": [
    "# LIST COMPREHENSIONS\n",
    "\n",
    "### Aufgabe 1\n",
    "\n",
    "Erzeuge mit **list comprehension**:\n",
    "\n",
    "```python\n",
    "['1. Eins', '2. Zwei', '3. Drei', '4. Vier', '5. Fünf']\n",
    "```"
   ]
  },
  {
   "cell_type": "code",
   "execution_count": 1,
   "metadata": {},
   "outputs": [],
   "source": [
    "zahlen = [\"Eins\", \"Zwei\", \"Drei\", \"Vier\", \"Fünf\"]\n",
    "zahlen"
   ]
  },
  {
   "cell_type": "code",
   "execution_count": 2,
   "metadata": {},
   "outputs": [
    {
     "data": {
      "text/plain": [
       "['1. Eins', '2. Zwei', '3. Drei', '4. Vier', '5. Fünf']"
      ]
     },
     "execution_count": 2,
     "metadata": {},
     "output_type": "execute_result"
    }
   ],
   "source": [
    "[f\"{i+1}. {zahl}\" for i, zahl in enumerate(zahlen)]"
   ]
  },
  {
   "cell_type": "markdown",
   "metadata": {},
   "source": [
    "### Aufgabe 2\n",
    "\n",
    "Erzeuge mit **list comprehension**:\n",
    "\n",
    "```python\n",
    "[2, 4, 6, 8, 10, 12, 14, 16, 18, 20]\n",
    "```"
   ]
  },
  {
   "cell_type": "code",
   "execution_count": 3,
   "metadata": {},
   "outputs": [
    {
     "data": {
      "text/plain": [
       "[2, 4, 6, 8, 10, 12, 14, 16, 18, 20]"
      ]
     },
     "execution_count": 3,
     "metadata": {},
     "output_type": "execute_result"
    }
   ],
   "source": [
    "[i for i in range(1, 21) if i % 2 == 0]"
   ]
  },
  {
   "cell_type": "markdown",
   "metadata": {},
   "source": [
    "### Aufgabe 3\n",
    "\n",
    "Erzeuge mit **list comprehension**:\n",
    "\n",
    "```python\n",
    "[1, 4, 9, 16, 25, 36, 49, 64, 81, 100]\n",
    "```"
   ]
  },
  {
   "cell_type": "code",
   "execution_count": 9,
   "metadata": {},
   "outputs": [
    {
     "data": {
      "text/plain": [
       "[1, 4, 9, 16, 25, 36, 49, 64, 81, 100]"
      ]
     },
     "execution_count": 9,
     "metadata": {},
     "output_type": "execute_result"
    }
   ],
   "source": [
    "[i**2 for i in range(1, 11)]"
   ]
  },
  {
   "cell_type": "markdown",
   "metadata": {},
   "source": [
    "### Aufgabe 4\n",
    "\n",
    "Erzeuge mit **list comprehension**:\n",
    "\n",
    "```python\n",
    "['1',\n",
    " '22',\n",
    " '333',\n",
    " '4444',\n",
    " '55555',\n",
    " '666666',\n",
    " '7777777',\n",
    " '88888888',\n",
    " '999999999']\n",
    "```"
   ]
  },
  {
   "cell_type": "code",
   "execution_count": 10,
   "metadata": {},
   "outputs": [
    {
     "data": {
      "text/plain": [
       "['1',\n",
       " '22',\n",
       " '333',\n",
       " '4444',\n",
       " '55555',\n",
       " '666666',\n",
       " '7777777',\n",
       " '88888888',\n",
       " '999999999']"
      ]
     },
     "execution_count": 10,
     "metadata": {},
     "output_type": "execute_result"
    }
   ],
   "source": [
    "[f\"{i}\"*i for i in range(1, 10)]"
   ]
  },
  {
   "cell_type": "markdown",
   "metadata": {},
   "source": [
    "### Aufgabe 5\n",
    "\n",
    "Erzeuge mit **list comprehension**:\n",
    "\n",
    "```python\n",
    "[[0],\n",
    " [0, 1],\n",
    " [0, 1, 2],\n",
    " [0, 1, 2, 3],\n",
    " [0, 1, 2, 3, 4],\n",
    " [0, 1, 2, 3, 4, 5],\n",
    " [0, 1, 2, 3, 4, 5, 6],\n",
    " [0, 1, 2, 3, 4, 5, 6, 7],\n",
    " [0, 1, 2, 3, 4, 5, 6, 7, 8],\n",
    " [0, 1, 2, 3, 4, 5, 6, 7, 8, 9]]\n",
    "```"
   ]
  },
  {
   "cell_type": "code",
   "execution_count": 11,
   "metadata": {},
   "outputs": [
    {
     "data": {
      "text/plain": [
       "[[0],\n",
       " [0, 1],\n",
       " [0, 1, 2],\n",
       " [0, 1, 2, 3],\n",
       " [0, 1, 2, 3, 4],\n",
       " [0, 1, 2, 3, 4, 5],\n",
       " [0, 1, 2, 3, 4, 5, 6],\n",
       " [0, 1, 2, 3, 4, 5, 6, 7],\n",
       " [0, 1, 2, 3, 4, 5, 6, 7, 8],\n",
       " [0, 1, 2, 3, 4, 5, 6, 7, 8, 9]]"
      ]
     },
     "execution_count": 11,
     "metadata": {},
     "output_type": "execute_result"
    }
   ],
   "source": [
    "[[j for j in range(i)] for i in range(1, 11)]"
   ]
  },
  {
   "cell_type": "markdown",
   "metadata": {},
   "source": [
    "### Aufgabe 6\n",
    "\n",
    "Erzeuge mit **list comprehension**:\n",
    "\n",
    "```python\n",
    "['ROM', 'BERLIN', 'KAMPALA']\n",
    "```"
   ]
  },
  {
   "cell_type": "code",
   "execution_count": 12,
   "metadata": {},
   "outputs": [
    {
     "data": {
      "text/plain": [
       "['atlantis', 'italien', 'utopie', 'deutschland', 'uganda', 'namek']"
      ]
     },
     "execution_count": 12,
     "metadata": {},
     "output_type": "execute_result"
    }
   ],
   "source": [
    "capitals = {\n",
    "    \"Deutschland\": \"bERLIN\",\n",
    "    \"Italien\": \"rOM\",\n",
    "    \"Uganda\": \"kAMPALA\"\n",
    "}\n",
    "countries = [\"atlantis\", \"italien\", \"utopie\", \"deutschland\", \"uganda\", \"namek\"]\n",
    "countries"
   ]
  },
  {
   "cell_type": "code",
   "execution_count": 13,
   "metadata": {},
   "outputs": [
    {
     "data": {
      "text/plain": [
       "['ROM', 'BERLIN', 'KAMPALA']"
      ]
     },
     "execution_count": 13,
     "metadata": {},
     "output_type": "execute_result"
    }
   ],
   "source": [
    "[capitals[country.capitalize()].upper() for country in countries if country.capitalize() in capitals]"
   ]
  }
 ],
 "metadata": {
  "kernelspec": {
   "display_name": "Python 3",
   "language": "python",
   "name": "python3"
  },
  "language_info": {
   "codemirror_mode": {
    "name": "ipython",
    "version": 3
   },
   "file_extension": ".py",
   "mimetype": "text/x-python",
   "name": "python",
   "nbconvert_exporter": "python",
   "pygments_lexer": "ipython3",
   "version": "3.8.11"
  }
 },
 "nbformat": 4,
 "nbformat_minor": 4
}
