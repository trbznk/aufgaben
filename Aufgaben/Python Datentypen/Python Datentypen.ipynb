{
 "cells": [
  {
   "cell_type": "markdown",
   "metadata": {},
   "source": [
    "# Python Datentypen"
   ]
  },
  {
   "cell_type": "markdown",
   "metadata": {},
   "source": [
    "### Aufgabe 1\n",
    "\n",
    "Erzeuge richtigen Term in Python, um den Wert der Sigmoid-Funktion mit dem gegeben `x = -2` zu berechnen.\n",
    "\n",
    "$$\n",
    "\\frac{1}{1+e^{-x}}\n",
    "$$\n",
    "\n",
    "- Die eulersche Zahl bekommst du mit dem Mathematik Modul von Python `math.e`\n",
    "\n",
    "Das Ergebnis sollte $0.8807970779778823$ sein."
   ]
  },
  {
   "cell_type": "code",
   "execution_count": 1,
   "metadata": {},
   "outputs": [
    {
     "data": {
      "text/plain": [
       "(-2, 2.718281828459045)"
      ]
     },
     "execution_count": 1,
     "metadata": {},
     "output_type": "execute_result"
    }
   ],
   "source": [
    "import math\n",
    "\n",
    "x = -2\n",
    "x, math.e"
   ]
  },
  {
   "cell_type": "code",
   "execution_count": null,
   "metadata": {},
   "outputs": [],
   "source": []
  },
  {
   "cell_type": "markdown",
   "metadata": {},
   "source": [
    "### Aufgabe 2\n",
    "\n",
    "Nutze die *slicing* Funktionalität um nur die ersten 75% des strings `s` auszugeben."
   ]
  },
  {
   "cell_type": "code",
   "execution_count": 2,
   "metadata": {},
   "outputs": [
    {
     "data": {
      "text/plain": [
       "'Python, C++, Javascript'"
      ]
     },
     "execution_count": 2,
     "metadata": {},
     "output_type": "execute_result"
    }
   ],
   "source": [
    "s = \"Python, C++, Javascript\"\n",
    "s"
   ]
  },
  {
   "cell_type": "code",
   "execution_count": null,
   "metadata": {},
   "outputs": [],
   "source": []
  },
  {
   "cell_type": "markdown",
   "metadata": {},
   "source": [
    "### Aufgabe 3\n",
    "\n",
    "Erzeuge eine Liste mit allen Primzahlen zwischen 0-100"
   ]
  },
  {
   "cell_type": "code",
   "execution_count": null,
   "metadata": {},
   "outputs": [],
   "source": []
  },
  {
   "cell_type": "markdown",
   "metadata": {},
   "source": [
    "### Aufgabe 4\n",
    "\n",
    "Erzeuge eine neue Liste `pct` aus der gegebenen Liste `values`, die die jeweiligen prozentualen Anteile an der Gesamtsumme enthält.\n",
    "\n",
    "**Beispiel:**\n",
    "\n",
    "```python\n",
    "values_example = [2, 2, 4]\n",
    "pct_example = [0.25, 0.25, 0.5]\n",
    "```"
   ]
  },
  {
   "cell_type": "code",
   "execution_count": 3,
   "metadata": {},
   "outputs": [
    {
     "data": {
      "text/plain": [
       "[1, 2, 3, 5, 8, 13, 21, 34, 55, 89]"
      ]
     },
     "execution_count": 3,
     "metadata": {},
     "output_type": "execute_result"
    }
   ],
   "source": [
    "values = [1, 2, 3, 5, 8, 13, 21, 34, 55, 89]\n",
    "values"
   ]
  },
  {
   "cell_type": "code",
   "execution_count": null,
   "metadata": {},
   "outputs": [],
   "source": []
  },
  {
   "cell_type": "markdown",
   "metadata": {},
   "source": [
    "### Aufgabe 5\n",
    "\n",
    "Erzeuge eine Funktion die ein Argument `x` aufnehmen kann und den Wert der folgenden Funktion zurückgibt:\n",
    "\n",
    "$$\n",
    "f(x) = 13.5x^5+8.55x^4+13.21x^3-89.34x^2+8.1x+144\n",
    "$$\n",
    "\n",
    "Setze für $x$ jeweils alle Zahlen bis zur tausendstel Nachkommastelle zwischen $0$ und $2$ ein und finde den niedrigsten Funktionswert der Funktion $f(x)$.\n",
    "\n",
    "**Beispiel:**\n",
    "\n",
    "$$\n",
    "0.000, 0.001, 0.002, ..., 1.999, 2.000\n",
    "$$"
   ]
  },
  {
   "cell_type": "code",
   "execution_count": null,
   "metadata": {},
   "outputs": [],
   "source": []
  }
 ],
 "metadata": {
  "kernelspec": {
   "display_name": "Python 3",
   "language": "python",
   "name": "python3"
  },
  "language_info": {
   "codemirror_mode": {
    "name": "ipython",
    "version": 3
   },
   "file_extension": ".py",
   "mimetype": "text/x-python",
   "name": "python",
   "nbconvert_exporter": "python",
   "pygments_lexer": "ipython3",
   "version": "3.8.11"
  }
 },
 "nbformat": 4,
 "nbformat_minor": 4
}
