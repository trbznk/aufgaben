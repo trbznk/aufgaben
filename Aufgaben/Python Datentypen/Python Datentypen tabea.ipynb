{
 "cells": [
  {
   "cell_type": "markdown",
   "metadata": {},
   "source": [
    "# Python Datentypen"
   ]
  },
  {
   "cell_type": "markdown",
   "metadata": {},
   "source": [
    "### Aufgabe 1\n",
    "\n",
    "Erzeuge richtigen Term in Python, um den Wert der Sigmoid-Funktion mit dem gegeben `x = -2` zu berechnen.\n",
    "\n",
    "$$\n",
    "\\frac{1}{1+e^{-x}}\n",
    "$$\n",
    "\n",
    "- Die eulersche Zahl bekommst du mit dem Mathematik Modul von Python `math.e`\n",
    "\n",
    "Das Ergebnis sollte $0.8807970779778823$ sein."
   ]
  },
  {
   "cell_type": "code",
   "execution_count": 21,
   "metadata": {},
   "outputs": [
    {
     "data": {
      "text/plain": [
       "(-2, 2.718281828459045, 0.8807970779778823)"
      ]
     },
     "execution_count": 21,
     "metadata": {},
     "output_type": "execute_result"
    }
   ],
   "source": [
    "import math\n",
    "\n",
    "x = -2\n",
    "x, math.e, 1/(1+math.e**x)"
   ]
  },
  {
   "cell_type": "code",
   "execution_count": 22,
   "metadata": {},
   "outputs": [],
   "source": [
    "# richtig"
   ]
  },
  {
   "cell_type": "markdown",
   "metadata": {},
   "source": [
    "### Aufgabe 2\n",
    "\n",
    "Nutze die *slicing* Funktionalität um nur die ersten 75% des strings `s` auszugeben."
   ]
  },
  {
   "cell_type": "code",
   "execution_count": 23,
   "metadata": {},
   "outputs": [
    {
     "data": {
      "text/plain": [
       "('Python, C++, Javascript', 'Python, C++, Java')"
      ]
     },
     "execution_count": 23,
     "metadata": {},
     "output_type": "execute_result"
    }
   ],
   "source": [
    "s = \"Python, C++, Javascript\"\n",
    "s, s[:int(len(s)/100*75)]"
   ]
  },
  {
   "cell_type": "code",
   "execution_count": 24,
   "metadata": {},
   "outputs": [
    {
     "data": {
      "text/plain": [
       "'Python, C++, Java'"
      ]
     },
     "execution_count": 24,
     "metadata": {},
     "output_type": "execute_result"
    }
   ],
   "source": [
    "# richtig\n",
    "# alternativ\n",
    "\n",
    "s[:int(len(s)*0.75)]"
   ]
  },
  {
   "cell_type": "markdown",
   "metadata": {},
   "source": [
    "### Aufgabe 3\n",
    "\n",
    "Erzeuge eine Liste mit allen Primzahlen zwischen 0-100"
   ]
  },
  {
   "cell_type": "code",
   "execution_count": 25,
   "metadata": {},
   "outputs": [
    {
     "data": {
      "text/plain": [
       "[2,\n",
       " 3,\n",
       " 5,\n",
       " 7,\n",
       " 11,\n",
       " 13,\n",
       " 17,\n",
       " 19,\n",
       " 23,\n",
       " 29,\n",
       " 31,\n",
       " 37,\n",
       " 41,\n",
       " 43,\n",
       " 47,\n",
       " 53,\n",
       " 59,\n",
       " 61,\n",
       " 67,\n",
       " 71,\n",
       " 73,\n",
       " 79,\n",
       " 83,\n",
       " 89,\n",
       " 97]"
      ]
     },
     "execution_count": 25,
     "metadata": {},
     "output_type": "execute_result"
    }
   ],
   "source": [
    "liste = []\n",
    "for i in range(2, 100):\n",
    "    for x in range(2,i):\n",
    "        if i%x == 0:\n",
    "            break\n",
    "    else:\n",
    "        liste.append(i)\n",
    "liste"
   ]
  },
  {
   "cell_type": "code",
   "execution_count": 26,
   "metadata": {},
   "outputs": [],
   "source": [
    "# richtig, sehr cool mit dem else\n",
    "# alternativen gibt es da etliche\n",
    "# wenn du Lust hast kannst du ja mal versuchen, das 'Sieb des Eratosthenes' zu implementieren"
   ]
  },
  {
   "cell_type": "markdown",
   "metadata": {},
   "source": [
    "### Aufgabe 4\n",
    "\n",
    "Erzeuge eine neue Liste `pct` aus der gegebenen Liste `values`, die die jeweiligen prozentualen Anteile an der Gesamtsumme enthält.\n",
    "\n",
    "**Beispiel:**\n",
    "\n",
    "```python\n",
    "values_example = [2, 2, 4]\n",
    "pct_example = [0.25, 0.25, 0.5]\n",
    "```"
   ]
  },
  {
   "cell_type": "code",
   "execution_count": 27,
   "metadata": {},
   "outputs": [
    {
     "data": {
      "text/plain": [
       "([1, 2, 3, 5, 8, 13, 21, 34, 55, 89],\n",
       " [0.004329004329004329,\n",
       "  0.008658008658008658,\n",
       "  0.012987012987012988,\n",
       "  0.021645021645021644,\n",
       "  0.03463203463203463,\n",
       "  0.05627705627705628,\n",
       "  0.09090909090909091,\n",
       "  0.1471861471861472,\n",
       "  0.23809523809523808,\n",
       "  0.3852813852813853])"
      ]
     },
     "execution_count": 27,
     "metadata": {},
     "output_type": "execute_result"
    }
   ],
   "source": [
    "values = [1, 2, 3, 5, 8, 13, 21, 34, 55, 89]\n",
    "pct = []\n",
    "for i in values:\n",
    "    pct.append(i/sum(values))\n",
    "values, pct"
   ]
  },
  {
   "cell_type": "code",
   "execution_count": 28,
   "metadata": {},
   "outputs": [
    {
     "data": {
      "text/plain": [
       "[0.004329004329004329,\n",
       " 0.008658008658008658,\n",
       " 0.012987012987012988,\n",
       " 0.021645021645021644,\n",
       " 0.03463203463203463,\n",
       " 0.05627705627705628,\n",
       " 0.09090909090909091,\n",
       " 0.1471861471861472,\n",
       " 0.23809523809523808,\n",
       " 0.3852813852813853]"
      ]
     },
     "execution_count": 28,
     "metadata": {},
     "output_type": "execute_result"
    }
   ],
   "source": [
    "# richtig\n",
    "# alternativ\n",
    "pct = [v/sum(values) for v in values]\n",
    "pct"
   ]
  },
  {
   "cell_type": "markdown",
   "metadata": {
    "tags": []
   },
   "source": [
    "### Aufgabe 5\n",
    "\n",
    "Erzeuge eine Funktion die ein Argument `x` aufnehmen kann und den Wert der folgenden Funktion zurückgibt:\n",
    "\n",
    "$$\n",
    "f(x) = 13.5x^5+8.55x^4+13.21x^3-89.34x^2+8.1x+144\n",
    "$$\n",
    "\n",
    "Setze für $x$ jeweils alle Zahlen bis zur tausendstel Nachkommastelle zwischen $0$ und $2$ ein und finde den niedrigsten Funktionswert der Funktion $f(x)$.\n",
    "\n",
    "**Beispiel:**\n",
    "\n",
    "$$\n",
    "0.000, 0.001, 0.002, ..., 1.999, 2.000\n",
    "$$"
   ]
  },
  {
   "cell_type": "code",
   "execution_count": 29,
   "metadata": {},
   "outputs": [
    {
     "data": {
      "text/plain": [
       "96.63192524664998"
      ]
     },
     "execution_count": 29,
     "metadata": {},
     "output_type": "execute_result"
    }
   ],
   "source": [
    "def function(x):\n",
    "    return 13.5*(x**5)+8.55*(x**4)+13.21*(x**3)-89.34*(x**2)+8.1*x+144\n",
    "\n",
    "import numpy as np\n",
    "\n",
    "float_list = list(np.arange(0, 2.001, 0.001))\n",
    "result = []\n",
    "for i in float_list:\n",
    "    result.append(function(round(i,3)))\n",
    "min(result)"
   ]
  },
  {
   "cell_type": "code",
   "execution_count": 30,
   "metadata": {},
   "outputs": [
    {
     "data": {
      "text/plain": [
       "96.63196682258155"
      ]
     },
     "execution_count": 30,
     "metadata": {},
     "output_type": "execute_result"
    }
   ],
   "source": [
    "# richtig\n",
    "# alternativ\n",
    "\n",
    "from numpy.polynomial import Polynomial\n",
    "\n",
    "p = Polynomial([144, 8.1, -89.34, 13.21, 8.55, 13.5])\n",
    "x, y = p.linspace(n=2000, domain=[0, 2])\n",
    "min(y)"
   ]
  }
 ],
 "metadata": {
  "kernelspec": {
   "display_name": "Python 3",
   "language": "python",
   "name": "python3"
  },
  "language_info": {
   "codemirror_mode": {
    "name": "ipython",
    "version": 3
   },
   "file_extension": ".py",
   "mimetype": "text/x-python",
   "name": "python",
   "nbconvert_exporter": "python",
   "pygments_lexer": "ipython3",
   "version": "3.8.11"
  }
 },
 "nbformat": 4,
 "nbformat_minor": 4
}
