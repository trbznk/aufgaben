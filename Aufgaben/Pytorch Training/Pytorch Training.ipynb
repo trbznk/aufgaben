{
 "cells": [
  {
   "cell_type": "markdown",
   "metadata": {},
   "source": [
    "# Pytorch Training"
   ]
  },
  {
   "cell_type": "code",
   "execution_count": 1,
   "metadata": {
    "jupyter": {
     "source_hidden": true
    }
   },
   "outputs": [],
   "source": [
    "import torch\n",
    "import torch.optim as optim\n",
    "import torch.nn as nn\n",
    "import numpy as np\n",
    "\n",
    "from torch.utils.data import Dataset, DataLoader\n",
    "\n",
    "samples = np.random.rand(1000, 5)\n",
    "train_idx = np.arange(600)\n",
    "val_idx = np.arange(600, 800)\n",
    "test_idx = np.arange(800, 1000)\n",
    "\n",
    "\n",
    "class Data(Dataset):\n",
    "    def __init__(self, samples):\n",
    "        self.samples = samples\n",
    "\n",
    "    def __len__(self):\n",
    "        return len(self.samples)\n",
    "\n",
    "    def __getitem__(self, idx):\n",
    "        sample = self.samples[idx][:4]\n",
    "        label = self.samples[idx][4:]\n",
    "\n",
    "        sample, label = torch.tensor(sample).float(), torch.tensor(label).float()\n",
    "        return sample, label\n",
    "    \n",
    "    \n",
    "dataset = Data(samples)\n",
    "    \n",
    "    \n",
    "data_loader = {\n",
    "    \"train\": DataLoader(dataset, sampler=train_idx, batch_size=32),\n",
    "    \"dev\": DataLoader(dataset, sampler=val_idx, batch_size=32),\n",
    "    \"test\": DataLoader(dataset, sampler=test_idx, batch_size=32)  \n",
    "}\n",
    "\n",
    "\n",
    "class Net(nn.Module):\n",
    "    def __init__(self):\n",
    "        super().__init__()\n",
    "        self.fc = nn.Sequential(\n",
    "            nn.Linear(4, 4),\n",
    "            nn.BatchNorm1d(4),\n",
    "            nn.ReLU(),\n",
    "            nn.Linear(4, 4),\n",
    "            nn.BatchNorm1d(4),\n",
    "            nn.ReLU(),\n",
    "            nn.Linear(4, 1)\n",
    "        )\n",
    "\n",
    "    def forward(self, x):\n",
    "        x = self.fc(x)\n",
    "        return x\n",
    "\n",
    "\n",
    "model = Net()"
   ]
  },
  {
   "cell_type": "markdown",
   "metadata": {},
   "source": [
    "### Aufgabe 1\n",
    "\n",
    "Passe das Training so an, dass `10` epochen trainiert werden.\n",
    "\n",
    "### Aufgabe 2\n",
    "\n",
    "Derzeit funktioniert das Training leider noch nicht. Es wurde festgestellt, dass die Gradienten nicht zurückgesetzt werden. Behebe den Fehler.\n",
    "\n",
    "### Aufgabe 3\n",
    "\n",
    "Zurzeit wird auch an den `dev` Daten trainiert. Passe den code so an, dass nur die `train` Daten für das Training des Modells genommen werden.\n",
    "\n",
    "### Aufgabe 4\n",
    "\n",
    "Über die Ausgabe können wir nur erfahren, in welcher Epoche & Phase wir uns befinden. Füge den `loss` der jeweiligen Epoche hinzu.\n",
    "\n",
    "### Aufgabe 5\n",
    "\n",
    "Wechsle den Optimizer aus. Genutzt werden soll der Optimizer `Adam`.\n"
   ]
  },
  {
   "cell_type": "code",
   "execution_count": 2,
   "metadata": {},
   "outputs": [
    {
     "name": "stdout",
     "output_type": "stream",
     "text": [
      "1 train\n",
      "1 dev\n",
      "2 train\n",
      "2 dev\n",
      "3 train\n",
      "3 dev\n",
      "4 train\n",
      "4 dev\n",
      "5 train\n",
      "5 dev\n"
     ]
    }
   ],
   "source": [
    "criterium = nn.MSELoss()\n",
    "optimizer = optim.SGD(model.parameters(), lr=0.001)\n",
    "\n",
    "\n",
    "for epoch in range(5):\n",
    "    for phase in ['train', 'dev']:\n",
    "        if phase == 'train':\n",
    "            model.train()\n",
    "        else:\n",
    "            model.eval()\n",
    "        running_loss = 0.0\n",
    "        for inputs, outputs in data_loader[phase]:\n",
    "            preds = model(inputs)\n",
    "            loss = criterium(preds, outputs)\n",
    "            running_loss += loss.item()\n",
    "            loss.backward()\n",
    "            optimizer.step()\n",
    "        print(f'{epoch+1} {phase}')"
   ]
  }
 ],
 "metadata": {
  "kernelspec": {
   "display_name": "Python 3",
   "language": "python",
   "name": "python3"
  },
  "language_info": {
   "codemirror_mode": {
    "name": "ipython",
    "version": 3
   },
   "file_extension": ".py",
   "mimetype": "text/x-python",
   "name": "python",
   "nbconvert_exporter": "python",
   "pygments_lexer": "ipython3",
   "version": "3.8.11"
  }
 },
 "nbformat": 4,
 "nbformat_minor": 4
}
