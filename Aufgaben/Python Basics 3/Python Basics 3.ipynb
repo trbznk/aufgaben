{
 "cells": [
  {
   "cell_type": "markdown",
   "metadata": {},
   "source": [
    "# Python Basics 3\n",
    "\n",
    "### Aufgabe 1\n",
    "\n",
    "Erzeuge eine Variable `width` mit dem Wert `23` und eine Variable  `height` mit dem Wert `14`."
   ]
  },
  {
   "cell_type": "code",
   "execution_count": null,
   "metadata": {},
   "outputs": [],
   "source": []
  },
  {
   "cell_type": "markdown",
   "metadata": {},
   "source": [
    "### Aufgabe 2\n",
    "\n",
    "Berechne die Fläche eines Rechtecks, indem du die Variable `width` mit der Variable `height` multiplizierst und speichere das Ergebnis in die Variable `area`."
   ]
  },
  {
   "cell_type": "code",
   "execution_count": null,
   "metadata": {},
   "outputs": [],
   "source": []
  },
  {
   "cell_type": "markdown",
   "metadata": {},
   "source": [
    "### Aufgabe 3\n",
    "\n",
    "Erzeuge eine Variable `vorname` mit deinem Vornamen und eine Varible `nachname` mit deinem Nachnamen."
   ]
  },
  {
   "cell_type": "code",
   "execution_count": null,
   "metadata": {},
   "outputs": [],
   "source": []
  },
  {
   "cell_type": "markdown",
   "metadata": {},
   "source": [
    "### Aufgabe 4\n",
    "\n",
    "Man kann in Python nicht nur Zahlen miteinander addieren, sondern auch Strings. Addiere die Variablen `vorname` und `nachname` und speichere das Ergebnis in eine Variable `name`."
   ]
  },
  {
   "cell_type": "code",
   "execution_count": null,
   "metadata": {},
   "outputs": [],
   "source": []
  },
  {
   "cell_type": "markdown",
   "metadata": {},
   "source": [
    "### Aufgabe 5\n",
    "\n",
    "Du hast bestimmt schon vom Body-Mass-Index (BMI) gehört. Dieser berechnet sich folgendermaßen:\n",
    "\n",
    "$$\n",
    "BMI = \\frac{\\text{Gewicht in kg}}{(\\text{Größe in m})^2}\n",
    "$$\n",
    "\n",
    "Die Rechnung ist bereits fertig programmiert. Du musst in der Zelle darüber nur noch die passenden Variablen erzeugen, damit diese auch funktioniert."
   ]
  },
  {
   "cell_type": "code",
   "execution_count": null,
   "metadata": {},
   "outputs": [],
   "source": []
  },
  {
   "cell_type": "code",
   "execution_count": null,
   "metadata": {},
   "outputs": [],
   "source": [
    "weight/(size)**2"
   ]
  }
 ],
 "metadata": {
  "kernelspec": {
   "display_name": "Python 3",
   "language": "python",
   "name": "python3"
  },
  "language_info": {
   "codemirror_mode": {
    "name": "ipython",
    "version": 3
   },
   "file_extension": ".py",
   "mimetype": "text/x-python",
   "name": "python",
   "nbconvert_exporter": "python",
   "pygments_lexer": "ipython3",
   "version": "3.8.12"
  }
 },
 "nbformat": 4,
 "nbformat_minor": 4
}
