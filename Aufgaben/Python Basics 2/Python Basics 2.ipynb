{
 "cells": [
  {
   "cell_type": "markdown",
   "metadata": {},
   "source": [
    "# Python Basics 2\n",
    "\n",
    "### Aufgabe 1\n",
    "\n",
    "Gegeben ist die Funktion $g(x) = 0,5x^4 - 3x^3 + 5x^2 -2x + 0,5$.\n",
    "\n",
    "Berechne $g(-3.4)$"
   ]
  },
  {
   "cell_type": "code",
   "execution_count": 1,
   "metadata": {},
   "outputs": [
    {
     "data": {
      "text/plain": [
       "-3.4"
      ]
     },
     "execution_count": 1,
     "metadata": {},
     "output_type": "execute_result"
    }
   ],
   "source": [
    "x = -3.4\n",
    "x"
   ]
  },
  {
   "cell_type": "code",
   "execution_count": null,
   "metadata": {},
   "outputs": [],
   "source": []
  },
  {
   "cell_type": "markdown",
   "metadata": {},
   "source": [
    "### Aufgabe 2\n",
    "\n",
    "Gegeben ist ein Dreieck mit den Katheten:\n",
    "\n",
    "$a=5.6$\n",
    "\n",
    "$b=3.2$\n",
    "\n",
    "Suche im python `math` module eine passende Funktion um die Hypotenuse $c$ zu berechnen."
   ]
  },
  {
   "cell_type": "code",
   "execution_count": 2,
   "metadata": {},
   "outputs": [
    {
     "data": {
      "text/plain": [
       "(5.6, 3.2)"
      ]
     },
     "execution_count": 2,
     "metadata": {},
     "output_type": "execute_result"
    }
   ],
   "source": [
    "a = 5.6\n",
    "b = 3.2\n",
    "a, b"
   ]
  },
  {
   "cell_type": "code",
   "execution_count": null,
   "metadata": {},
   "outputs": [],
   "source": []
  },
  {
   "cell_type": "markdown",
   "metadata": {},
   "source": [
    "### Aufgabe 3\n",
    "\n",
    "Erzeuge aus dem vorgegebenen string `s`:\n",
    "\n",
    "`'cba322222222221'`\n",
    "\n",
    "Wichtige Methoden:\n",
    "\n",
    "- slicing\n",
    "- indexing\n",
    "- `lower()`\n",
    "- reversing a string\n",
    "- `+`"
   ]
  },
  {
   "cell_type": "code",
   "execution_count": 3,
   "metadata": {},
   "outputs": [
    {
     "data": {
      "text/plain": [
       "'321ABC'"
      ]
     },
     "execution_count": 3,
     "metadata": {},
     "output_type": "execute_result"
    }
   ],
   "source": [
    "s = \"321ABC\"\n",
    "s"
   ]
  },
  {
   "cell_type": "code",
   "execution_count": null,
   "metadata": {},
   "outputs": [],
   "source": []
  },
  {
   "cell_type": "markdown",
   "metadata": {},
   "source": [
    "### Aufgabe 4\n",
    "\n",
    "Die *range* ist der Abstand zwischen dem größten und dem kleinsten Wert einer Menge.\n",
    "\n",
    "Wie groß ist das zweite Element der Liste `a` im Verhältnis zur *range*?"
   ]
  },
  {
   "cell_type": "code",
   "execution_count": 4,
   "metadata": {},
   "outputs": [
    {
     "data": {
      "text/plain": [
       "[2, 5, 8, 2, 14, 42, 3]"
      ]
     },
     "execution_count": 4,
     "metadata": {},
     "output_type": "execute_result"
    }
   ],
   "source": [
    "a = [2, 5, 8, 2, 14, 42, 3]\n",
    "a"
   ]
  },
  {
   "cell_type": "code",
   "execution_count": null,
   "metadata": {},
   "outputs": [],
   "source": []
  },
  {
   "cell_type": "markdown",
   "metadata": {},
   "source": [
    "### Aufgabe 5\n",
    "\n",
    "![leet](https://i.pinimg.com/originals/42/94/97/4294976ce603552b7ee0dd883c8202cf.jpg)\n",
    "\n",
    "Erzeuge ein `dictionary` um das *Leet Speak* Alphabet zu übersetzen. Passe dafür nur den Inhalt der Variable `alphabet` an und führe die Zelle aus, um deine Eingaben zu übersetzen."
   ]
  },
  {
   "cell_type": "code",
   "execution_count": null,
   "metadata": {},
   "outputs": [],
   "source": [
    "alphabet = {}\n",
    "\n",
    "\n",
    "def leet(s):\n",
    "    return s.translate(str.maketrans(alphabet))    \n",
    "\n",
    "\n",
    "leet(input())"
   ]
  }
 ],
 "metadata": {
  "kernelspec": {
   "display_name": "Python 3",
   "language": "python",
   "name": "python3"
  },
  "language_info": {
   "codemirror_mode": {
    "name": "ipython",
    "version": 3
   },
   "file_extension": ".py",
   "mimetype": "text/x-python",
   "name": "python",
   "nbconvert_exporter": "python",
   "pygments_lexer": "ipython3",
   "version": "3.8.11"
  }
 },
 "nbformat": 4,
 "nbformat_minor": 4
}
