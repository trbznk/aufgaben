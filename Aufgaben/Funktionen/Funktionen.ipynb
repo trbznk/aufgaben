{
 "cells": [
  {
   "cell_type": "markdown",
   "metadata": {},
   "source": [
    "# FUNKTIONEN\n",
    "\n",
    "### Aufgabe 1\n",
    "\n",
    "Setze das passende Argument in die Funktion `reverse_string` ein, damit die Funktion keinen Fehler mehr erzeugt."
   ]
  },
  {
   "cell_type": "code",
   "execution_count": null,
   "metadata": {},
   "outputs": [],
   "source": [
    "def reverse_string():\n",
    "    s = s[::-1]\n",
    "    print(s)\n",
    "    \n",
    "    \n",
    "reverse_string(\"rednaxela\")"
   ]
  },
  {
   "cell_type": "markdown",
   "metadata": {},
   "source": [
    "### Aufgabe 2\n",
    "\n",
    "Rufe die Funktion `a_dreieck` auf, um die Länger der Hypothenuse eines Dreiecks mit den Kathetenlängen von $7.1 cm$ und $4.3 cm$ zu berechnen."
   ]
  },
  {
   "cell_type": "code",
   "execution_count": null,
   "metadata": {},
   "outputs": [],
   "source": [
    "import math\n",
    "\n",
    "\n",
    "def hypotenuse(a, b):\n",
    "    return math.sqrt((a**2)+(b**2))"
   ]
  },
  {
   "cell_type": "code",
   "execution_count": null,
   "metadata": {},
   "outputs": [],
   "source": []
  },
  {
   "cell_type": "markdown",
   "metadata": {},
   "source": [
    "### Aufgabe 3\n",
    "\n",
    "Vervollständige die Funktion `rechne`, sodass sie beim Argument `'+'` oder `plus` die richtige Funktion aufruft.\n",
    "Dann soll die Funktion `rechne` das Ergebnis wie im Beispiel ausgegeben:\n",
    "\n",
    "```python\n",
    "'33 - 4 = 29'\n",
    "```"
   ]
  },
  {
   "cell_type": "code",
   "execution_count": null,
   "metadata": {},
   "outputs": [],
   "source": [
    "def plus(a, b):\n",
    "    return a+b\n",
    "\n",
    "\n",
    "def minus(a, b):\n",
    "    return a-b\n",
    "\n",
    "\n",
    "def rechne(a, operator, b):\n",
    "    pass\n",
    "\n",
    "\n",
    "rechne(33, \"-\", 29)"
   ]
  },
  {
   "cell_type": "markdown",
   "metadata": {},
   "source": [
    "### Aufgabe 4\n",
    "\n",
    "Implementiere in der Funktion `sequence_it` ein Keyword Argument `window` welcher standardmäßig den Wert `3` enthält, sodass beide Funktionsaufrufe funktionieren."
   ]
  },
  {
   "cell_type": "code",
   "execution_count": null,
   "metadata": {},
   "outputs": [],
   "source": [
    "import numpy as np\n",
    "\n",
    "\n",
    "def sequence_it(timeseries):\n",
    "    sequences = [timeseries[i:i+window] for i in range(len(timeseries)-window+1)]\n",
    "    return sequences\n",
    "\n",
    "\n",
    "timeseries = np.random.rand(20)\n",
    "sequence_it(timeseries)"
   ]
  },
  {
   "cell_type": "code",
   "execution_count": null,
   "metadata": {},
   "outputs": [],
   "source": [
    "sequence_it(timeseries, window=5)"
   ]
  },
  {
   "cell_type": "markdown",
   "metadata": {},
   "source": [
    "### Aufgabe 5\n",
    "\n",
    "Implementiere eine Funktion `bmi`, die bei gegebenen Argumenten `gewicht` und `größe` den berechneten BMI (Body Mass Index) zurückgibt."
   ]
  },
  {
   "cell_type": "code",
   "execution_count": null,
   "metadata": {},
   "outputs": [],
   "source": []
  }
 ],
 "metadata": {
  "kernelspec": {
   "display_name": "Python 3",
   "language": "python",
   "name": "python3"
  },
  "language_info": {
   "codemirror_mode": {
    "name": "ipython",
    "version": 3
   },
   "file_extension": ".py",
   "mimetype": "text/x-python",
   "name": "python",
   "nbconvert_exporter": "python",
   "pygments_lexer": "ipython3",
   "version": "3.8.11"
  }
 },
 "nbformat": 4,
 "nbformat_minor": 4
}
